{
 "cells": [
  {
   "cell_type": "code",
   "execution_count": 1,
   "id": "7c9c89b8-1bbd-4c9a-bd6d-8a55b8af2dae",
   "metadata": {},
   "outputs": [],
   "source": [
    "import pandas as pd \n",
    "import numpy as np \n",
    "import matplotlib.pyplot as plt\n",
    "from sklearn.model_selection import train_test_split\n",
    "from sklearn.linear_model import LinearRegression\n",
    "from sklearn import metrics\n",
    "from sklearn.neighbors import KNeighborsClassifier\n",
    "from sklearn.metrics import accuracy_score, classification_report\n",
    "from sklearn.model_selection import train_test_split\n",
    "from sklearn.preprocessing import MinMaxScaler\n",
    "from sklearn.linear_model import LinearRegression, Ridge, Lasso\n",
    "from sklearn.ensemble import RandomForestRegressor\n",
    "from sklearn.svm import SVR\n",
    "from sklearn.tree import DecisionTreeRegressor\n",
    "from sklearn.neighbors import KNeighborsRegressor\n",
    "from sklearn.metrics import r2_score\n",
    "from sklearn.model_selection import train_test_split\n",
    "\n",
    "df10 = pd.read_csv('preprocess_merged_data_path10.csv')\n",
    "df1028 = pd.read_csv('preprocess_merged_data_path1028.csv')\n",
    "df28 = pd.read_csv('preprocess_merged_data_path28.csv')"
   ]
  },
  {
   "cell_type": "code",
   "execution_count": 3,
   "id": "fbac883d-fef0-4f4c-85c8-feb49309bacb",
   "metadata": {},
   "outputs": [
    {
     "name": "stdout",
     "output_type": "stream",
     "text": [
      "        zenoAlg.AT_5m_C\n",
      "0                  26.4\n",
      "1                  26.4\n",
      "2                  26.4\n",
      "3                  26.4\n",
      "4                  26.5\n",
      "...                 ...\n",
      "129595             25.5\n",
      "129596             25.6\n",
      "129597             25.7\n",
      "129598             25.8\n",
      "129599             25.8\n",
      "\n",
      "[129600 rows x 1 columns]         zenoAlg.AT_5m_C\n",
      "0                  26.6\n",
      "1                  26.6\n",
      "2                  26.7\n",
      "3                  26.8\n",
      "4                  26.8\n",
      "...                 ...\n",
      "129595             25.8\n",
      "129596             25.8\n",
      "129597             26.0\n",
      "129598             26.1\n",
      "129599             26.1\n",
      "\n",
      "[129600 rows x 1 columns]         zenoAlg.AT_5m_C\n",
      "0                  26.3\n",
      "1                  26.4\n",
      "2                  26.4\n",
      "3                  26.5\n",
      "4                  26.6\n",
      "...                 ...\n",
      "129595             25.6\n",
      "129596             25.6\n",
      "129597             25.7\n",
      "129598             25.8\n",
      "129599             25.8\n",
      "\n",
      "[129600 rows x 1 columns]\n"
     ]
    }
   ],
   "source": [
    "# Kolom yang ingin Anda pertahankan\n",
    "columns_to_keep = ['zenoAlg.AT_5m_C']\n",
    "\n",
    "# Menjatuhkan semua kolom kecuali yang ingin dipertahankan\n",
    "df_suhu_10 = df10.drop(columns=df10.columns.difference(columns_to_keep))\n",
    "df_suhu_1028 = df1028.drop(columns=df1028.columns.difference(columns_to_keep))\n",
    "df_suhu_28 = df28.drop(columns=df28.columns.difference(columns_to_keep))\n",
    "\n",
    "# Tampilkan hasilnya\n",
    "print(df_suhu_10, df_suhu_1028, df_suhu_28)"
   ]
  },
  {
   "cell_type": "code",
   "execution_count": 4,
   "id": "77e7b4c1-aec7-4f2a-8789-b81fbfa9791d",
   "metadata": {},
   "outputs": [],
   "source": [
    "df_clasification_10.rename(columns={'zenoAlg.AT_5m_C' : 'AT_10'}, inplace=True)\n",
    "df_clasification_1028.rename(columns={'zenoAlg.AT_5m_C' : 'AT_1028'}, inplace=True)\n",
    "df_clasification_28.rename(columns={'zenoAlg.AT_5m_C' : 'AT_28'}, inplace=True)"
   ]
  },
  {
   "cell_type": "code",
   "execution_count": null,
   "id": "dae9b9d2-9306-4666-8d39-82ea75635548",
   "metadata": {},
   "outputs": [],
   "source": []
  }
 ],
 "metadata": {
  "kernelspec": {
   "display_name": "Python 3 (ipykernel)",
   "language": "python",
   "name": "python3"
  },
  "language_info": {
   "codemirror_mode": {
    "name": "ipython",
    "version": 3
   },
   "file_extension": ".py",
   "mimetype": "text/x-python",
   "name": "python",
   "nbconvert_exporter": "python",
   "pygments_lexer": "ipython3",
   "version": "3.11.0"
  }
 },
 "nbformat": 4,
 "nbformat_minor": 5
}
