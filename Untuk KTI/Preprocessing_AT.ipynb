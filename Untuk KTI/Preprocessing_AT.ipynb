{
 "cells": [
  {
   "cell_type": "code",
   "execution_count": 1,
   "id": "f5ecc7a3-b373-4c8a-a815-ae2e7b66d4e9",
   "metadata": {},
   "outputs": [],
   "source": [
    "import pandas as pd \n",
    "import numpy as np \n",
    "df10 = pd.read_csv('preprocess_merged_data_path10.csv')\n",
    "df1028 = pd.read_csv('preprocess_merged_data_path1028.csv')\n",
    "df28 = pd.read_csv('preprocess_merged_data_path28.csv')"
   ]
  },
  {
   "cell_type": "code",
   "execution_count": 2,
   "id": "86375b6b-411a-48ea-bcee-b1e332124df2",
   "metadata": {},
   "outputs": [
    {
     "name": "stdout",
     "output_type": "stream",
     "text": [
      "       date (yyyy-MM-dd HH:mm:ss)  zenoAlg.AT_5m_C\n",
      "0             2022-12-01 00:00:15             26.4\n",
      "1             2022-12-01 00:01:15             26.4\n",
      "2             2022-12-01 00:02:15             26.4\n",
      "3             2022-12-01 00:03:15             26.4\n",
      "4             2022-12-01 00:04:15             26.5\n",
      "...                           ...              ...\n",
      "129595        2023-02-28 23:55:15             25.5\n",
      "129596        2023-02-28 23:56:15             25.6\n",
      "129597        2023-02-28 23:57:15             25.7\n",
      "129598        2023-02-28 23:58:15             25.8\n",
      "129599        2023-02-28 23:59:15             25.8\n",
      "\n",
      "[129600 rows x 2 columns]         zenoAlg.AT_5m_C\n",
      "0                  26.6\n",
      "1                  26.6\n",
      "2                  26.7\n",
      "3                  26.8\n",
      "4                  26.8\n",
      "...                 ...\n",
      "129595             25.8\n",
      "129596             25.8\n",
      "129597             26.0\n",
      "129598             26.1\n",
      "129599             26.1\n",
      "\n",
      "[129600 rows x 1 columns]         zenoAlg.AT_5m_C\n",
      "0                  26.3\n",
      "1                  26.4\n",
      "2                  26.4\n",
      "3                  26.5\n",
      "4                  26.6\n",
      "...                 ...\n",
      "129595             25.6\n",
      "129596             25.6\n",
      "129597             25.7\n",
      "129598             25.8\n",
      "129599             25.8\n",
      "\n",
      "[129600 rows x 1 columns]\n"
     ]
    }
   ],
   "source": [
    "# Kolom yang ingin Anda pertahankan\n",
    "columns_to_keep1 = ['date (yyyy-MM-dd HH:mm:ss)','zenoAlg.AT_5m_C']\n",
    "columns_to_keep = ['zenoAlg.AT_5m_C']\n",
    "\n",
    "# Menjatuhkan semua kolom kecuali yang ingin dipertahankan\n",
    "df_suhu_10 = df10.drop(columns=df10.columns.difference(columns_to_keep1))\n",
    "df_suhu_1028 = df1028.drop(columns=df1028.columns.difference(columns_to_keep))\n",
    "df_suhu_28 = df28.drop(columns=df28.columns.difference(columns_to_keep))\n",
    "\n",
    "# Tampilkan hasilnya\n",
    "print(df_suhu_10, df_suhu_1028, df_suhu_28)"
   ]
  },
  {
   "cell_type": "code",
   "execution_count": 3,
   "id": "6e6f6768-510d-40b5-a16b-630eec7bed55",
   "metadata": {},
   "outputs": [
    {
     "data": {
      "text/plain": [
       "date (yyyy-MM-dd HH:mm:ss)    0\n",
       "zenoAlg.AT_5m_C               0\n",
       "dtype: int64"
      ]
     },
     "execution_count": 3,
     "metadata": {},
     "output_type": "execute_result"
    }
   ],
   "source": [
    "df_suhu_10.isnull().sum()"
   ]
  },
  {
   "cell_type": "code",
   "execution_count": 4,
   "id": "09595438-5695-4943-af7f-8e33864c5d56",
   "metadata": {},
   "outputs": [
    {
     "data": {
      "text/plain": [
       "zenoAlg.AT_5m_C    0\n",
       "dtype: int64"
      ]
     },
     "execution_count": 4,
     "metadata": {},
     "output_type": "execute_result"
    }
   ],
   "source": [
    "df_suhu_1028.isnull().sum()"
   ]
  },
  {
   "cell_type": "code",
   "execution_count": 5,
   "id": "8cc899e5-6570-4677-a927-253016f56c56",
   "metadata": {},
   "outputs": [
    {
     "data": {
      "text/plain": [
       "zenoAlg.AT_5m_C    0\n",
       "dtype: int64"
      ]
     },
     "execution_count": 5,
     "metadata": {},
     "output_type": "execute_result"
    }
   ],
   "source": [
    "df_suhu_28.isnull().sum()"
   ]
  },
  {
   "cell_type": "code",
   "execution_count": 6,
   "id": "fb5855f6-d076-4729-99c9-6528f15f8406",
   "metadata": {},
   "outputs": [],
   "source": [
    "df_suhu_10.rename(columns={'date (yyyy-MM-dd HH:mm:ss)': 'date','zenoAlg.AT_5m_C' : 'AT_10'}, inplace=True)\n",
    "df_suhu_1028.rename(columns={'zenoAlg.AT_5m_C' : 'AT_1028'}, inplace=True)\n",
    "df_suhu_28.rename(columns={'zenoAlg.AT_5m_C' : 'AT_28'}, inplace=True)"
   ]
  },
  {
   "cell_type": "code",
   "execution_count": 7,
   "id": "eeec2302-2c8a-4fac-9b8d-9e81aa330315",
   "metadata": {},
   "outputs": [],
   "source": [
    "# Menggabungkan dua file secara horizontal (kolom demi kolom)\n",
    "merged_data = pd.concat([df_suhu_10, df_suhu_1028 , df_suhu_28], axis=1)\n",
    "\n",
    "# Konversi kolom date menjadi tipe data datetime\n",
    "merged_data['date'] = pd.to_datetime(merged_data['date'])\n",
    "\n",
    "# Filter frame untuk bulan Desember 2022 - Januari 2023\n",
    "dec_jan_frame = merged_data[\n",
    "    (merged_data['date'] >= '2022-12-01 00:00:15') &\n",
    "    (merged_data['date'] <= '2023-01-31 23:59:15')\n",
    "]\n",
    "\n",
    "# Menyimpan frame ke file CSV\n",
    "dec_jan_frame.to_csv('merged_df_des_jan.csv', index=False)\n",
    "\n",
    "# Filter frame untuk bulan Februari 2023\n",
    "feb_frame = merged_data[\n",
    "    (merged_data['date'] >= '2023-02-01 00:00:15') &\n",
    "    (merged_data['date'] <= '2023-02-28 23:59:15')\n",
    "]\n",
    "\n",
    "# Menyimpan frame ke file CSV\n",
    "feb_frame.to_csv('merged_df_feb.csv', index=False)"
   ]
  },
  {
   "cell_type": "code",
   "execution_count": null,
   "id": "fa97a122-5eae-4ffb-91fd-4e69c2091809",
   "metadata": {},
   "outputs": [],
   "source": []
  }
 ],
 "metadata": {
  "kernelspec": {
   "display_name": "Python 3 (ipykernel)",
   "language": "python",
   "name": "python3"
  },
  "language_info": {
   "codemirror_mode": {
    "name": "ipython",
    "version": 3
   },
   "file_extension": ".py",
   "mimetype": "text/x-python",
   "name": "python",
   "nbconvert_exporter": "python",
   "pygments_lexer": "ipython3",
   "version": "3.11.0"
  }
 },
 "nbformat": 4,
 "nbformat_minor": 5
}
