{
 "cells": [
  {
   "cell_type": "code",
   "execution_count": 1,
   "id": "f5ecc7a3-b373-4c8a-a815-ae2e7b66d4e9",
   "metadata": {},
   "outputs": [
    {
     "name": "stderr",
     "output_type": "stream",
     "text": [
      "C:\\Users\\Lenovo\\AppData\\Local\\Temp\\ipykernel_11380\\3403029290.py:3: DtypeWarning: Columns (11,13,14,15,32,33) have mixed types. Specify dtype option on import or set low_memory=False.\n",
      "  df10 = pd.read_csv('merged_data_path10.csv')\n",
      "C:\\Users\\Lenovo\\AppData\\Local\\Temp\\ipykernel_11380\\3403029290.py:4: DtypeWarning: Columns (1,2,3,6,7,11,13,14,15,32,33,35,36) have mixed types. Specify dtype option on import or set low_memory=False.\n",
      "  df1028 = pd.read_csv('merged_data_path1028.csv')\n",
      "C:\\Users\\Lenovo\\AppData\\Local\\Temp\\ipykernel_11380\\3403029290.py:5: DtypeWarning: Columns (1,2,3,6,7,11,13,14,15,32,33,35,36) have mixed types. Specify dtype option on import or set low_memory=False.\n",
      "  df28 = pd.read_csv('merged_data_path28.csv')\n"
     ]
    }
   ],
   "source": [
    "import pandas as pd \n",
    "import numpy as np \n",
    "df10 = pd.read_csv('merged_data_path10.csv')\n",
    "df1028 = pd.read_csv('merged_data_path1028.csv')\n",
    "df28 = pd.read_csv('merged_data_path28.csv')"
   ]
  },
  {
   "cell_type": "code",
   "execution_count": 2,
   "id": "86375b6b-411a-48ea-bcee-b1e332124df2",
   "metadata": {},
   "outputs": [
    {
     "name": "stdout",
     "output_type": "stream",
     "text": [
      "       date (yyyy-MM-dd HH:mm:ss) zenoAlg.AT_5m_C\n",
      "0             2022-12-01 00:00:15            26.4\n",
      "1             2022-12-01 00:01:15            26.4\n",
      "2             2022-12-01 00:02:15            26.4\n",
      "3             2022-12-01 00:03:15            26.4\n",
      "4             2022-12-01 00:04:15            26.5\n",
      "...                           ...             ...\n",
      "129595        2023-02-28 23:55:15            25.5\n",
      "129596        2023-02-28 23:56:15            25.6\n",
      "129597        2023-02-28 23:57:15            25.7\n",
      "129598        2023-02-28 23:58:15            25.8\n",
      "129599        2023-02-28 23:59:15            25.8\n",
      "\n",
      "[129600 rows x 2 columns]        date (yyyy-MM-dd HH:mm:ss) zenoAlg.AT_5m_C\n",
      "0             2022-12-01 00:00:15            26.6\n",
      "1             2022-12-01 00:01:15            26.6\n",
      "2             2022-12-01 00:02:15            26.7\n",
      "3             2022-12-01 00:03:15            26.8\n",
      "4             2022-12-01 00:04:15            26.8\n",
      "...                           ...             ...\n",
      "129595        2023-02-28 23:55:15            25.8\n",
      "129596        2023-02-28 23:56:15            25.8\n",
      "129597        2023-02-28 23:57:15            26.0\n",
      "129598        2023-02-28 23:58:15            26.1\n",
      "129599        2023-02-28 23:59:15            26.1\n",
      "\n",
      "[129600 rows x 2 columns]        date (yyyy-MM-dd HH:mm:ss) zenoAlg.AT_5m_C\n",
      "0             2022-12-01 00:00:15            26.3\n",
      "1             2022-12-01 00:01:15            26.4\n",
      "2             2022-12-01 00:02:15            26.4\n",
      "3             2022-12-01 00:03:15            26.5\n",
      "4             2022-12-01 00:04:15            26.6\n",
      "...                           ...             ...\n",
      "129595        2023-02-28 23:55:15            25.6\n",
      "129596        2023-02-28 23:56:15            25.6\n",
      "129597        2023-02-28 23:57:15            25.7\n",
      "129598        2023-02-28 23:58:15            25.8\n",
      "129599        2023-02-28 23:59:15            25.8\n",
      "\n",
      "[129600 rows x 2 columns]\n"
     ]
    }
   ],
   "source": [
    "# Kolom yang ingin Anda pertahankan\n",
    "columns_to_keep1 = ['date (yyyy-MM-dd HH:mm:ss)','zenoAlg.AT_5m_C']\n",
    "columns_to_keep = ['zenoAlg.AT_5m_C']\n",
    "\n",
    "# Menjatuhkan semua kolom kecuali yang ingin dipertahankan\n",
    "df_suhu_10 = df10.drop(columns=df10.columns.difference(columns_to_keep))\n",
    "df_suhu_1028 = df1028.drop(columns=df1028.columns.difference(columns_to_keep))\n",
    "df_suhu_28 = df28.drop(columns=df28.columns.difference(columns_to_keep))\n",
    "\n",
    "# Tampilkan hasilnya\n",
    "print(df_suhu_10, df_suhu_1028, df_suhu_28)"
   ]
  },
  {
   "cell_type": "code",
   "execution_count": 7,
   "id": "6e6f6768-510d-40b5-a16b-630eec7bed55",
   "metadata": {},
   "outputs": [
    {
     "data": {
      "text/plain": [
       "date (yyyy-MM-dd HH:mm:ss)    0\n",
       "zenoAlg.AT_5m_C               0\n",
       "dtype: int64"
      ]
     },
     "execution_count": 7,
     "metadata": {},
     "output_type": "execute_result"
    }
   ],
   "source": [
    "df_suhu_10.isnull().sum()"
   ]
  },
  {
   "cell_type": "code",
   "execution_count": 4,
   "id": "09595438-5695-4943-af7f-8e33864c5d56",
   "metadata": {},
   "outputs": [
    {
     "data": {
      "text/plain": [
       "date (yyyy-MM-dd HH:mm:ss)    0\n",
       "zenoAlg.AT_5m_C               0\n",
       "dtype: int64"
      ]
     },
     "execution_count": 4,
     "metadata": {},
     "output_type": "execute_result"
    }
   ],
   "source": [
    "df_suhu_1028.isnull().sum()"
   ]
  },
  {
   "cell_type": "code",
   "execution_count": 5,
   "id": "8cc899e5-6570-4677-a927-253016f56c56",
   "metadata": {},
   "outputs": [
    {
     "data": {
      "text/plain": [
       "date (yyyy-MM-dd HH:mm:ss)    0\n",
       "zenoAlg.AT_5m_C               0\n",
       "dtype: int64"
      ]
     },
     "execution_count": 5,
     "metadata": {},
     "output_type": "execute_result"
    }
   ],
   "source": [
    "df_suhu_28.isnull().sum()"
   ]
  },
  {
   "cell_type": "code",
   "execution_count": 12,
   "id": "fb5855f6-d076-4729-99c9-6528f15f8406",
   "metadata": {},
   "outputs": [],
   "source": [
    "df_suhu_10.rename(columns={'date (yyyy-MM-dd HH:mm:ss)': 'date','zenoAlg.AT_5m_C' : 'AT_10'}, inplace=True)\n",
    "df_suhu_1028.rename(columns={'date (yyyy-MM-dd HH:mm:ss)': 'date','zenoAlg.AT_5m_C' : 'AT_1028'}, inplace=True)\n",
    "df_suhu_28.rename(columns={'date (yyyy-MM-dd HH:mm:ss)': 'date','zenoAlg.AT_5m_C' : 'AT_28'}, inplace=True)"
   ]
  },
  {
   "cell_type": "code",
   "execution_count": null,
   "id": "eeec2302-2c8a-4fac-9b8d-9e81aa330315",
   "metadata": {},
   "outputs": [],
   "source": []
  }
 ],
 "metadata": {
  "kernelspec": {
   "display_name": "Python 3 (ipykernel)",
   "language": "python",
   "name": "python3"
  },
  "language_info": {
   "codemirror_mode": {
    "name": "ipython",
    "version": 3
   },
   "file_extension": ".py",
   "mimetype": "text/x-python",
   "name": "python",
   "nbconvert_exporter": "python",
   "pygments_lexer": "ipython3",
   "version": "3.11.0"
  }
 },
 "nbformat": 4,
 "nbformat_minor": 5
}
