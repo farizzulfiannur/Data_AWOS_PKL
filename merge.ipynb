{
 "cells": [
  {
   "cell_type": "code",
   "execution_count": 23,
   "metadata": {},
   "outputs": [],
   "source": [
    "import pandas as pd\n",
    "import os\n",
    "\n",
    "folderpath = 'PKL_data'\n",
    "\n",
    "path10 = []\n",
    "path1028 = []\n",
    "path28 = []\n",
    "\n",
    "# Include data for December 2022\n",
    "for i in range(1, 32):\n",
    "    path10.append(f'{folderpath}/2022/12/{i}/10/kal.csv')\n",
    "    path1028.append(f'{folderpath}/2022/12/{i}/10-28/kal.csv')\n",
    "    path28.append(f'{folderpath}/2022/12/{i}/28/kal.csv')\n",
    "# Include data for January 2023\n",
    "for i in range(1, 32):\n",
    "    path10.append(f'{folderpath}/2023/1/{i}/10/kal.csv')\n",
    "    path1028.append(f'{folderpath}/2023/1/{i}/10-28/kal.csv')\n",
    "    path28.append(f'{folderpath}/2023/1/{i}/28/kal.csv')\n",
    "# Include data for February 2023\n",
    "for i in range(1, 29):  # Assuming February has up to 28 days\n",
    "    path10.append(f'{folderpath}/2023/2/{i}/10/kal.csv')\n",
    "    path1028.append(f'{folderpath}/2023/2/{i}/10-28/kal.csv')\n",
    "    path28.append(f'{folderpath}/2023/2/{i}/28/kal.csv')\n",
    "merged_data = pd.DataFrame()\n",
    "for file_path in path1028:\n",
    "    if os.path.exists(file_path):  # Check if the file exists\n",
    "        df = pd.read_csv(file_path)\n",
    "        merged_data = pd.concat([merged_data, df], ignore_index=True)\n",
    "# Save the merged data to a new CSV file\n",
    "merged_data.to_csv('merged_data_path1028.csv', index=False)\n"
   ]
  },
  {
   "cell_type": "code",
   "execution_count": null,
   "metadata": {},
   "outputs": [],
   "source": []
  }
 ],
 "metadata": {
  "kernelspec": {
   "display_name": "Python 3 (ipykernel)",
   "language": "python",
   "name": "python3"
  },
  "language_info": {
   "codemirror_mode": {
    "name": "ipython",
    "version": 3
   },
   "file_extension": ".py",
   "mimetype": "text/x-python",
   "name": "python",
   "nbconvert_exporter": "python",
   "pygments_lexer": "ipython3",
   "version": "3.11.0"
  }
 },
 "nbformat": 4,
 "nbformat_minor": 4
}
