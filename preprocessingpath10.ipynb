{
 "cells": [
  {
   "cell_type": "markdown",
   "metadata": {},
   "source": [
    "### Membaca tabel dengan 5 data terawal"
   ]
  },
  {
   "cell_type": "code",
   "execution_count": 1,
   "metadata": {},
   "outputs": [
    {
     "name": "stderr",
     "output_type": "stream",
     "text": [
      "C:\\Users\\Lenovo\\AppData\\Local\\Temp\\ipykernel_11232\\1083702034.py:4: DtypeWarning: Columns (11,13,14,15,32,33) have mixed types. Specify dtype option on import or set low_memory=False.\n",
      "  df = pd.read_csv(inputfilename)\n"
     ]
    },
    {
     "data": {
      "text/html": [
       "<div>\n",
       "<style scoped>\n",
       "    .dataframe tbody tr th:only-of-type {\n",
       "        vertical-align: middle;\n",
       "    }\n",
       "\n",
       "    .dataframe tbody tr th {\n",
       "        vertical-align: top;\n",
       "    }\n",
       "\n",
       "    .dataframe thead th {\n",
       "        text-align: right;\n",
       "    }\n",
       "</style>\n",
       "<table border=\"1\" class=\"dataframe\">\n",
       "  <thead>\n",
       "    <tr style=\"text-align: right;\">\n",
       "      <th></th>\n",
       "      <th>date (yyyy-MM-dd HH:mm:ss)</th>\n",
       "      <th>windAlg.Spd_2m_kt</th>\n",
       "      <th>windAlg.Dir_2m</th>\n",
       "      <th>windAlg.GustAv_10m_kt</th>\n",
       "      <th>windAlg.SpdX_2m_kt</th>\n",
       "      <th>ALgt_1m_cd/m2</th>\n",
       "      <th>windAlg.Spd_10m_kt</th>\n",
       "      <th>windAlg.Dir_10m</th>\n",
       "      <th>windAlg.DirCCw_10m</th>\n",
       "      <th>windAlg.DirCw_10m</th>\n",
       "      <th>...</th>\n",
       "      <th>ceilAlg.layer2_report</th>\n",
       "      <th>ceilAlg.layer3_report</th>\n",
       "      <th>ceilAlg.layer4_report</th>\n",
       "      <th>visiAlg.PW_METAR</th>\n",
       "      <th>zenoAlg.AT_5m_C.1</th>\n",
       "      <th>zenoAlg.RH_5m.1</th>\n",
       "      <th>baroAlg.BPLow_1m_Mb</th>\n",
       "      <th>windAlg.Dir_2m.1</th>\n",
       "      <th>windAlg.Spd_2m_kt.1</th>\n",
       "      <th>ALgt_1m_cd/m2.1</th>\n",
       "    </tr>\n",
       "  </thead>\n",
       "  <tbody>\n",
       "    <tr>\n",
       "      <th>0</th>\n",
       "      <td>2022-12-01 00:00:15</td>\n",
       "      <td>1.7</td>\n",
       "      <td>222</td>\n",
       "      <td>NaN</td>\n",
       "      <td>1.4</td>\n",
       "      <td>3704.0</td>\n",
       "      <td>2.1</td>\n",
       "      <td>208</td>\n",
       "      <td>178.0</td>\n",
       "      <td>239.0</td>\n",
       "      <td>...</td>\n",
       "      <td>NaN</td>\n",
       "      <td>NaN</td>\n",
       "      <td>NaN</td>\n",
       "      <td>BR</td>\n",
       "      <td>26.4</td>\n",
       "      <td>95.6</td>\n",
       "      <td>NaN</td>\n",
       "      <td>222</td>\n",
       "      <td>1.7</td>\n",
       "      <td>3704.0</td>\n",
       "    </tr>\n",
       "    <tr>\n",
       "      <th>1</th>\n",
       "      <td>2022-12-01 00:01:15</td>\n",
       "      <td>1.8</td>\n",
       "      <td>229</td>\n",
       "      <td>NaN</td>\n",
       "      <td>1.4</td>\n",
       "      <td>3743.0</td>\n",
       "      <td>2.0</td>\n",
       "      <td>213</td>\n",
       "      <td>178.0</td>\n",
       "      <td>241.0</td>\n",
       "      <td>...</td>\n",
       "      <td>NaN</td>\n",
       "      <td>NaN</td>\n",
       "      <td>NaN</td>\n",
       "      <td>BR</td>\n",
       "      <td>26.4</td>\n",
       "      <td>95.4</td>\n",
       "      <td>NaN</td>\n",
       "      <td>229</td>\n",
       "      <td>1.8</td>\n",
       "      <td>3743.0</td>\n",
       "    </tr>\n",
       "    <tr>\n",
       "      <th>2</th>\n",
       "      <td>2022-12-01 00:02:15</td>\n",
       "      <td>2.0</td>\n",
       "      <td>224</td>\n",
       "      <td>NaN</td>\n",
       "      <td>1.7</td>\n",
       "      <td>3906.0</td>\n",
       "      <td>2.0</td>\n",
       "      <td>214</td>\n",
       "      <td>178.0</td>\n",
       "      <td>241.0</td>\n",
       "      <td>...</td>\n",
       "      <td>NaN</td>\n",
       "      <td>NaN</td>\n",
       "      <td>NaN</td>\n",
       "      <td>BR</td>\n",
       "      <td>26.4</td>\n",
       "      <td>95.2</td>\n",
       "      <td>NaN</td>\n",
       "      <td>224</td>\n",
       "      <td>2.0</td>\n",
       "      <td>3906.0</td>\n",
       "    </tr>\n",
       "    <tr>\n",
       "      <th>3</th>\n",
       "      <td>2022-12-01 00:03:15</td>\n",
       "      <td>1.9</td>\n",
       "      <td>211</td>\n",
       "      <td>NaN</td>\n",
       "      <td>1.8</td>\n",
       "      <td>3990.0</td>\n",
       "      <td>2.0</td>\n",
       "      <td>213</td>\n",
       "      <td>178.0</td>\n",
       "      <td>241.0</td>\n",
       "      <td>...</td>\n",
       "      <td>NaN</td>\n",
       "      <td>NaN</td>\n",
       "      <td>NaN</td>\n",
       "      <td>BR</td>\n",
       "      <td>26.4</td>\n",
       "      <td>95.1</td>\n",
       "      <td>NaN</td>\n",
       "      <td>211</td>\n",
       "      <td>1.9</td>\n",
       "      <td>3990.0</td>\n",
       "    </tr>\n",
       "    <tr>\n",
       "      <th>4</th>\n",
       "      <td>2022-12-01 00:04:15</td>\n",
       "      <td>1.9</td>\n",
       "      <td>226</td>\n",
       "      <td>NaN</td>\n",
       "      <td>1.5</td>\n",
       "      <td>4087.0</td>\n",
       "      <td>2.0</td>\n",
       "      <td>218</td>\n",
       "      <td>178.0</td>\n",
       "      <td>265.0</td>\n",
       "      <td>...</td>\n",
       "      <td>NaN</td>\n",
       "      <td>NaN</td>\n",
       "      <td>NaN</td>\n",
       "      <td>BR</td>\n",
       "      <td>26.5</td>\n",
       "      <td>95.2</td>\n",
       "      <td>NaN</td>\n",
       "      <td>226</td>\n",
       "      <td>1.9</td>\n",
       "      <td>4087.0</td>\n",
       "    </tr>\n",
       "  </tbody>\n",
       "</table>\n",
       "<p>5 rows × 38 columns</p>\n",
       "</div>"
      ],
      "text/plain": [
       "  date (yyyy-MM-dd HH:mm:ss) windAlg.Spd_2m_kt windAlg.Dir_2m  \\\n",
       "0        2022-12-01 00:00:15               1.7            222   \n",
       "1        2022-12-01 00:01:15               1.8            229   \n",
       "2        2022-12-01 00:02:15               2.0            224   \n",
       "3        2022-12-01 00:03:15               1.9            211   \n",
       "4        2022-12-01 00:04:15               1.9            226   \n",
       "\n",
       "   windAlg.GustAv_10m_kt  windAlg.SpdX_2m_kt  ALgt_1m_cd/m2  \\\n",
       "0                    NaN                 1.4         3704.0   \n",
       "1                    NaN                 1.4         3743.0   \n",
       "2                    NaN                 1.7         3906.0   \n",
       "3                    NaN                 1.8         3990.0   \n",
       "4                    NaN                 1.5         4087.0   \n",
       "\n",
       "  windAlg.Spd_10m_kt windAlg.Dir_10m  windAlg.DirCCw_10m  windAlg.DirCw_10m  \\\n",
       "0                2.1             208               178.0              239.0   \n",
       "1                2.0             213               178.0              241.0   \n",
       "2                2.0             214               178.0              241.0   \n",
       "3                2.0             213               178.0              241.0   \n",
       "4                2.0             218               178.0              265.0   \n",
       "\n",
       "   ...  ceilAlg.layer2_report ceilAlg.layer3_report  ceilAlg.layer4_report  \\\n",
       "0  ...                    NaN                   NaN                    NaN   \n",
       "1  ...                    NaN                   NaN                    NaN   \n",
       "2  ...                    NaN                   NaN                    NaN   \n",
       "3  ...                    NaN                   NaN                    NaN   \n",
       "4  ...                    NaN                   NaN                    NaN   \n",
       "\n",
       "  visiAlg.PW_METAR zenoAlg.AT_5m_C.1 zenoAlg.RH_5m.1  baroAlg.BPLow_1m_Mb  \\\n",
       "0               BR              26.4            95.6                  NaN   \n",
       "1               BR              26.4            95.4                  NaN   \n",
       "2               BR              26.4            95.2                  NaN   \n",
       "3               BR              26.4            95.1                  NaN   \n",
       "4               BR              26.5            95.2                  NaN   \n",
       "\n",
       "   windAlg.Dir_2m.1  windAlg.Spd_2m_kt.1  ALgt_1m_cd/m2.1  \n",
       "0               222                  1.7           3704.0  \n",
       "1               229                  1.8           3743.0  \n",
       "2               224                  2.0           3906.0  \n",
       "3               211                  1.9           3990.0  \n",
       "4               226                  1.9           4087.0  \n",
       "\n",
       "[5 rows x 38 columns]"
      ]
     },
     "execution_count": 1,
     "metadata": {},
     "output_type": "execute_result"
    }
   ],
   "source": [
    "import pandas as pd \n",
    "import numpy as np \n",
    "inputfilename = 'merged_data_path10.csv'\n",
    "df = pd.read_csv(inputfilename)\n",
    "df.head(5)"
   ]
  },
  {
   "cell_type": "markdown",
   "metadata": {},
   "source": [
    "### Pengecekan kolom yang kosong, jika terdapat data kolom yang kosong maka bertulisan 'true'"
   ]
  },
  {
   "cell_type": "code",
   "execution_count": 2,
   "metadata": {},
   "outputs": [
    {
     "data": {
      "text/plain": [
       "date (yyyy-MM-dd HH:mm:ss)    False\n",
       "windAlg.Spd_2m_kt             False\n",
       "windAlg.Dir_2m                 True\n",
       "windAlg.GustAv_10m_kt          True\n",
       "windAlg.SpdX_2m_kt             True\n",
       "ALgt_1m_cd/m2                  True\n",
       "windAlg.Spd_10m_kt            False\n",
       "windAlg.Dir_10m               False\n",
       "windAlg.DirCCw_10m             True\n",
       "windAlg.DirCw_10m              True\n",
       "windAlg.Peak_10m_kt           False\n",
       "zenoAlg.AT_5m_C               False\n",
       "zenoAlg.DP_5m_C                True\n",
       "zenoAlg.RH_5m                 False\n",
       "baroAlg.QNH_1m_mb             False\n",
       "baroAlg.QFE_1m_mb             False\n",
       "baroAlg.BPLow_1m_mb            True\n",
       "visiAlg.F_Vis_1m_m             True\n",
       "visiAlg.F_Vis_10m_m            True\n",
       "visiAlg.VisMn_10m_m            True\n",
       "visiAlg.VisMx_10m_m            True\n",
       "runway                         True\n",
       "touchdown.message             False\n",
       "rollout.message               False\n",
       "touchdown.edge                 True\n",
       "touchdown.center               True\n",
       "ceilAlg.Base_30s_ft            True\n",
       "ceilAlg.layer1_report          True\n",
       "ceilAlg.layer2_report          True\n",
       "ceilAlg.layer3_report          True\n",
       "ceilAlg.layer4_report          True\n",
       "visiAlg.PW_METAR               True\n",
       "zenoAlg.AT_5m_C.1             False\n",
       "zenoAlg.RH_5m.1               False\n",
       "baroAlg.BPLow_1m_Mb            True\n",
       "windAlg.Dir_2m.1               True\n",
       "windAlg.Spd_2m_kt.1           False\n",
       "ALgt_1m_cd/m2.1                True\n",
       "dtype: bool"
      ]
     },
     "execution_count": 2,
     "metadata": {},
     "output_type": "execute_result"
    }
   ],
   "source": [
    "df.isnull().any()"
   ]
  },
  {
   "cell_type": "markdown",
   "metadata": {},
   "source": [
    "### Mengecek persentase data kosong pada setiap kolom"
   ]
  },
  {
   "cell_type": "code",
   "execution_count": 3,
   "metadata": {},
   "outputs": [
    {
     "name": "stdout",
     "output_type": "stream",
     "text": [
      "Column: date (yyyy-MM-dd HH:mm:ss)\n",
      "Total empty values: 0\n",
      "Percentage of empty values: 0.00%\n",
      "---\n",
      "Column: windAlg.Spd_2m_kt\n",
      "Total empty values: 0\n",
      "Percentage of empty values: 0.00%\n",
      "---\n",
      "Column: windAlg.Dir_2m\n",
      "Total empty values: 3\n",
      "Percentage of empty values: 0.00%\n",
      "---\n",
      "Column: windAlg.GustAv_10m_kt\n",
      "Total empty values: 127798\n",
      "Percentage of empty values: 98.61%\n",
      "---\n",
      "Column: windAlg.SpdX_2m_kt\n",
      "Total empty values: 28\n",
      "Percentage of empty values: 0.02%\n",
      "---\n",
      "Column: ALgt_1m_cd/m2\n",
      "Total empty values: 156\n",
      "Percentage of empty values: 0.12%\n",
      "---\n",
      "Column: windAlg.Spd_10m_kt\n",
      "Total empty values: 0\n",
      "Percentage of empty values: 0.00%\n",
      "---\n",
      "Column: windAlg.Dir_10m\n",
      "Total empty values: 0\n",
      "Percentage of empty values: 0.00%\n",
      "---\n",
      "Column: windAlg.DirCCw_10m\n",
      "Total empty values: 299\n",
      "Percentage of empty values: 0.23%\n",
      "---\n",
      "Column: windAlg.DirCw_10m\n",
      "Total empty values: 299\n",
      "Percentage of empty values: 0.23%\n",
      "---\n",
      "Column: windAlg.Peak_10m_kt\n",
      "Total empty values: 0\n",
      "Percentage of empty values: 0.00%\n",
      "---\n",
      "Column: zenoAlg.AT_5m_C\n",
      "Total empty values: 0\n",
      "Percentage of empty values: 0.00%\n",
      "---\n",
      "Column: zenoAlg.DP_5m_C\n",
      "Total empty values: 1023\n",
      "Percentage of empty values: 0.79%\n",
      "---\n",
      "Column: zenoAlg.RH_5m\n",
      "Total empty values: 0\n",
      "Percentage of empty values: 0.00%\n",
      "---\n",
      "Column: baroAlg.QNH_1m_mb\n",
      "Total empty values: 0\n",
      "Percentage of empty values: 0.00%\n",
      "---\n",
      "Column: baroAlg.QFE_1m_mb\n",
      "Total empty values: 0\n",
      "Percentage of empty values: 0.00%\n",
      "---\n",
      "Column: baroAlg.BPLow_1m_mb\n",
      "Total empty values: 48\n",
      "Percentage of empty values: 0.04%\n",
      "---\n",
      "Column: visiAlg.F_Vis_1m_m\n",
      "Total empty values: 14\n",
      "Percentage of empty values: 0.01%\n",
      "---\n",
      "Column: visiAlg.F_Vis_10m_m\n",
      "Total empty values: 32\n",
      "Percentage of empty values: 0.02%\n",
      "---\n",
      "Column: visiAlg.VisMn_10m_m\n",
      "Total empty values: 492\n",
      "Percentage of empty values: 0.38%\n",
      "---\n",
      "Column: visiAlg.VisMx_10m_m\n",
      "Total empty values: 492\n",
      "Percentage of empty values: 0.38%\n",
      "---\n",
      "Column: runway\n",
      "Total empty values: 129600\n",
      "Percentage of empty values: 100.00%\n",
      "---\n",
      "Column: touchdown.message\n",
      "Total empty values: 0\n",
      "Percentage of empty values: 0.00%\n",
      "---\n",
      "Column: rollout.message\n",
      "Total empty values: 0\n",
      "Percentage of empty values: 0.00%\n",
      "---\n",
      "Column: touchdown.edge\n",
      "Total empty values: 50132\n",
      "Percentage of empty values: 38.68%\n",
      "---\n",
      "Column: touchdown.center\n",
      "Total empty values: 50132\n",
      "Percentage of empty values: 38.68%\n",
      "---\n",
      "Column: ceilAlg.Base_30s_ft\n",
      "Total empty values: 87\n",
      "Percentage of empty values: 0.07%\n",
      "---\n",
      "Column: ceilAlg.layer1_report\n",
      "Total empty values: 1118\n",
      "Percentage of empty values: 0.86%\n",
      "---\n",
      "Column: ceilAlg.layer2_report\n",
      "Total empty values: 60883\n",
      "Percentage of empty values: 46.98%\n",
      "---\n",
      "Column: ceilAlg.layer3_report\n",
      "Total empty values: 96041\n",
      "Percentage of empty values: 74.11%\n",
      "---\n",
      "Column: ceilAlg.layer4_report\n",
      "Total empty values: 117391\n",
      "Percentage of empty values: 90.58%\n",
      "---\n",
      "Column: visiAlg.PW_METAR\n",
      "Total empty values: 81741\n",
      "Percentage of empty values: 63.07%\n",
      "---\n",
      "Column: zenoAlg.AT_5m_C.1\n",
      "Total empty values: 0\n",
      "Percentage of empty values: 0.00%\n",
      "---\n",
      "Column: zenoAlg.RH_5m.1\n",
      "Total empty values: 0\n",
      "Percentage of empty values: 0.00%\n",
      "---\n",
      "Column: baroAlg.BPLow_1m_Mb\n",
      "Total empty values: 129600\n",
      "Percentage of empty values: 100.00%\n",
      "---\n",
      "Column: windAlg.Dir_2m.1\n",
      "Total empty values: 3\n",
      "Percentage of empty values: 0.00%\n",
      "---\n",
      "Column: windAlg.Spd_2m_kt.1\n",
      "Total empty values: 0\n",
      "Percentage of empty values: 0.00%\n",
      "---\n",
      "Column: ALgt_1m_cd/m2.1\n",
      "Total empty values: 156\n",
      "Percentage of empty values: 0.12%\n",
      "---\n"
     ]
    }
   ],
   "source": [
    "for column in df.columns:\n",
    "    total_empty_values = df[column].isna().sum()\n",
    "    total_rows = len(df)\n",
    "    percentage = (total_empty_values / total_rows) * 100\n",
    "    print('Column:' , column)\n",
    "    print(f'Total empty values: {total_empty_values}')\n",
    "    print(f'Percentage of empty values: {percentage:.2f}%')\n",
    "    print('---')"
   ]
  },
  {
   "cell_type": "markdown",
   "metadata": {},
   "source": [
    "### Pengecekkan dan penggantian nilai data pada Wind Direction Algoritma"
   ]
  },
  {
   "cell_type": "code",
   "execution_count": 4,
   "metadata": {},
   "outputs": [
    {
     "name": "stdout",
     "output_type": "stream",
     "text": [
      "[38981, 39202, 113804]\n"
     ]
    }
   ],
   "source": [
    "missing_place = df.index[df['windAlg.Dir_2m.1'].isna()].tolist()\n",
    "print(missing_place)"
   ]
  },
  {
   "cell_type": "code",
   "execution_count": 5,
   "metadata": {},
   "outputs": [
    {
     "data": {
      "text/plain": [
       "39200      M\n",
       "39201      M\n",
       "39202    NaN\n",
       "39203      M\n",
       "39204      M\n",
       "39205      M\n",
       "Name: windAlg.Dir_2m.1, dtype: object"
      ]
     },
     "execution_count": 5,
     "metadata": {},
     "output_type": "execute_result"
    }
   ],
   "source": [
    "df.loc[39200:39205,'windAlg.Dir_2m.1']"
   ]
  },
  {
   "cell_type": "markdown",
   "metadata": {},
   "source": [
    "#### Karena data yang kosong terhimpit oleh simbol 'M' maka tidak bisa diinterpolasi linier, maka akan saya ganti dengan NaN"
   ]
  },
  {
   "cell_type": "code",
   "execution_count": 7,
   "metadata": {},
   "outputs": [],
   "source": [
    "for column in df.columns:\n",
    "    df[column] = df[column].replace('M', np.nan)"
   ]
  },
  {
   "cell_type": "code",
   "execution_count": 8,
   "metadata": {},
   "outputs": [
    {
     "data": {
      "text/plain": [
       "39200    NaN\n",
       "39201    NaN\n",
       "39202    NaN\n",
       "39203    NaN\n",
       "39204    NaN\n",
       "39205    NaN\n",
       "Name: windAlg.Dir_2m.1, dtype: object"
      ]
     },
     "execution_count": 8,
     "metadata": {},
     "output_type": "execute_result"
    }
   ],
   "source": [
    "df.loc[39200:39205,'windAlg.Dir_2m.1']"
   ]
  },
  {
   "cell_type": "markdown",
   "metadata": {},
   "source": [
    "### Drop column yang memiliki persentase diatas 50% dan bukan kode"
   ]
  },
  {
   "cell_type": "code",
   "execution_count": 9,
   "metadata": {},
   "outputs": [],
   "source": [
    "df.drop('windAlg.GustAv_10m_kt', axis=1, inplace=True)\n",
    "df.drop('runway', axis=1, inplace=True)\n",
    "df.drop('baroAlg.BPLow_1m_Mb', axis=1, inplace=True)\n",
    "# Pengulangan data kolom dikarenakan data diambil dari mesin secara otomatis\n",
    "df.drop('zenoAlg.AT_5m_C.1', axis=1, inplace=True)\n",
    "df.drop('zenoAlg.RH_5m.1', axis=1, inplace=True)\n",
    "df.drop('windAlg.Dir_2m.1', axis=1, inplace=True)\n",
    "df.drop('windAlg.Spd_2m_kt.1', axis=1, inplace=True)\n",
    "df.drop('ALgt_1m_cd/m2.1', axis=1, inplace=True)"
   ]
  },
  {
   "cell_type": "markdown",
   "metadata": {},
   "source": [
    "### Pengisian data kosong dengan persentase kecil"
   ]
  },
  {
   "cell_type": "markdown",
   "metadata": {},
   "source": [
    "#### Pengecekkan data yang bukan float maka diganti ke float "
   ]
  },
  {
   "cell_type": "code",
   "execution_count": 10,
   "metadata": {},
   "outputs": [
    {
     "name": "stdout",
     "output_type": "stream",
     "text": [
      "<class 'pandas.core.frame.DataFrame'>\n",
      "RangeIndex: 129600 entries, 0 to 129599\n",
      "Data columns (total 30 columns):\n",
      " #   Column                      Non-Null Count   Dtype  \n",
      "---  ------                      --------------   -----  \n",
      " 0   date (yyyy-MM-dd HH:mm:ss)  129600 non-null  object \n",
      " 1   windAlg.Spd_2m_kt           129437 non-null  object \n",
      " 2   windAlg.Dir_2m              129437 non-null  object \n",
      " 3   windAlg.SpdX_2m_kt          129572 non-null  float64\n",
      " 4   ALgt_1m_cd/m2               129444 non-null  float64\n",
      " 5   windAlg.Spd_10m_kt          129270 non-null  object \n",
      " 6   windAlg.Dir_10m             129270 non-null  object \n",
      " 7   windAlg.DirCCw_10m          129301 non-null  float64\n",
      " 8   windAlg.DirCw_10m           129301 non-null  float64\n",
      " 9   windAlg.Peak_10m_kt         129600 non-null  float64\n",
      " 10  zenoAlg.AT_5m_C             129587 non-null  object \n",
      " 11  zenoAlg.DP_5m_C             128577 non-null  float64\n",
      " 12  zenoAlg.RH_5m               129568 non-null  object \n",
      " 13  baroAlg.QNH_1m_mb           129597 non-null  object \n",
      " 14  baroAlg.QFE_1m_mb           129578 non-null  object \n",
      " 15  baroAlg.BPLow_1m_mb         129552 non-null  float64\n",
      " 16  visiAlg.F_Vis_1m_m          129586 non-null  float64\n",
      " 17  visiAlg.F_Vis_10m_m         129568 non-null  float64\n",
      " 18  visiAlg.VisMn_10m_m         129108 non-null  float64\n",
      " 19  visiAlg.VisMx_10m_m         129108 non-null  float64\n",
      " 20  touchdown.message           79411 non-null   object \n",
      " 21  rollout.message             79422 non-null   object \n",
      " 22  touchdown.edge              79468 non-null   float64\n",
      " 23  touchdown.center            79468 non-null   float64\n",
      " 24  ceilAlg.Base_30s_ft         129513 non-null  float64\n",
      " 25  ceilAlg.layer1_report       128482 non-null  object \n",
      " 26  ceilAlg.layer2_report       68717 non-null   object \n",
      " 27  ceilAlg.layer3_report       33559 non-null   object \n",
      " 28  ceilAlg.layer4_report       12209 non-null   object \n",
      " 29  visiAlg.PW_METAR            47833 non-null   object \n",
      "dtypes: float64(14), object(16)\n",
      "memory usage: 29.7+ MB\n"
     ]
    }
   ],
   "source": [
    "df.info()"
   ]
  },
  {
   "cell_type": "code",
   "execution_count": 11,
   "metadata": {},
   "outputs": [],
   "source": [
    "df['windAlg.Spd_2m_kt'] = df['windAlg.Spd_2m_kt'].astype(float)\n",
    "df['windAlg.Dir_2m'] = df['windAlg.Dir_2m'].astype(float)\n",
    "df['windAlg.Spd_10m_kt'] = df['windAlg.Spd_10m_kt'].astype(float)\n",
    "df['windAlg.Dir_10m'] = df['windAlg.Dir_10m'].astype(float)\n",
    "df['zenoAlg.AT_5m_C'] = df['zenoAlg.AT_5m_C'].astype(float)\n",
    "df['zenoAlg.RH_5m'] = df['zenoAlg.RH_5m'].astype(float)\n",
    "df['baroAlg.QNH_1m_mb'] = df['baroAlg.QNH_1m_mb'].astype(float)\n",
    "df['baroAlg.QFE_1m_mb'] = df['baroAlg.QFE_1m_mb'].astype(float)"
   ]
  },
  {
   "cell_type": "code",
   "execution_count": 12,
   "metadata": {},
   "outputs": [
    {
     "name": "stderr",
     "output_type": "stream",
     "text": [
      "C:\\Users\\Lenovo\\AppData\\Local\\Temp\\ipykernel_11232\\383785225.py:3: FutureWarning: Series.interpolate with object dtype is deprecated and will raise in a future version. Call obj.infer_objects(copy=False) before interpolating instead.\n",
      "  df[column].interpolate(method='linear', inplace=True, limit_direction='both', limit=None)\n"
     ]
    }
   ],
   "source": [
    "def interpolate_columns(df, columns):\n",
    "    for column in columns:\n",
    "        df[column].interpolate(method='linear', inplace=True, limit_direction='both', limit=None)\n",
    "\n",
    "interpolate_columns(df, df.columns)\n"
   ]
  },
  {
   "cell_type": "markdown",
   "metadata": {},
   "source": [
    "### Pengecekan dan pengisian data kosong pada touchdown.edge dan touchdown.center dengan menggunakan nilai sebelumnya"
   ]
  },
  {
   "cell_type": "code",
   "execution_count": 13,
   "metadata": {},
   "outputs": [
    {
     "data": {
      "text/plain": [
       "100    0.0\n",
       "101    0.0\n",
       "102    0.0\n",
       "103    0.0\n",
       "104    0.0\n",
       "105    0.0\n",
       "106    0.0\n",
       "107    0.0\n",
       "108    0.0\n",
       "109    0.0\n",
       "110    0.0\n",
       "111    0.0\n",
       "112    0.0\n",
       "113    0.0\n",
       "114    0.0\n",
       "115    0.0\n",
       "116    0.0\n",
       "117    0.0\n",
       "118    0.0\n",
       "119    0.0\n",
       "120    0.0\n",
       "Name: touchdown.center, dtype: float64"
      ]
     },
     "execution_count": 13,
     "metadata": {},
     "output_type": "execute_result"
    }
   ],
   "source": [
    "df.loc[100:120,'touchdown.center']"
   ]
  },
  {
   "cell_type": "code",
   "execution_count": 14,
   "metadata": {},
   "outputs": [
    {
     "name": "stderr",
     "output_type": "stream",
     "text": [
      "C:\\Users\\Lenovo\\AppData\\Local\\Temp\\ipykernel_11232\\1093043511.py:1: FutureWarning: Series.fillna with 'method' is deprecated and will raise in a future version. Use obj.ffill() or obj.bfill() instead.\n",
      "  df['touchdown.edge'].fillna(method='ffill',inplace=True)\n",
      "C:\\Users\\Lenovo\\AppData\\Local\\Temp\\ipykernel_11232\\1093043511.py:2: FutureWarning: Series.fillna with 'method' is deprecated and will raise in a future version. Use obj.ffill() or obj.bfill() instead.\n",
      "  df['touchdown.center'].fillna(method='ffill',inplace=True)\n"
     ]
    }
   ],
   "source": [
    "df['touchdown.edge'].fillna(method='ffill',inplace=True)\n",
    "df['touchdown.center'].fillna(method='ffill',inplace=True)"
   ]
  },
  {
   "cell_type": "markdown",
   "metadata": {},
   "source": [
    "### Mengubah kode agar menjadi angka"
   ]
  },
  {
   "cell_type": "code",
   "execution_count": 15,
   "metadata": {},
   "outputs": [],
   "source": [
    "#Define kode touchdown.message dan rollout.message menjadi angka\n",
    "#P = 3 , M = 5\n",
    "kode_touchdown = { 'P2000' : '3200', 'M': '5' }\n",
    "#Replace \n",
    "df['touchdown.message'] = df['touchdown.message'].replace(kode_touchdown)\n",
    "df['rollout.message'] = df['rollout.message'].replace(kode_touchdown)"
   ]
  },
  {
   "cell_type": "code",
   "execution_count": 16,
   "metadata": {},
   "outputs": [],
   "source": [
    "#Kode Ceil : {'NCD' : 1 ,'FEW' : 2 , 'BKN' : 3 , 'SCT' : 4, 'OVC' : 5}\n",
    "\n",
    "# Fungsi untuk mengubah kode string menjadi angka\n",
    "def convert_code_to_number(s):\n",
    "    if pd.notna(s):  # Check if the value is not NaN\n",
    "        if 'FEW' in s:\n",
    "            return pd.to_numeric(s.replace('FEW', '2'), errors='coerce')\n",
    "        elif 'BKN' in s:\n",
    "            return pd.to_numeric(s.replace('BKN', '3'), errors='coerce')\n",
    "        elif 'NCD' in s:\n",
    "            return pd.to_numeric(s.replace('NCD', '1'), errors='coerce')\n",
    "        elif 'SCT' in s:\n",
    "            return pd.to_numeric(s.replace('SCT', '4'), errors='coerce')\n",
    "        elif 'OVC' in s:\n",
    "            return pd.to_numeric(s.replace('OVC', '5'), errors='coerce')\n",
    "    return pd.to_numeric(s, errors='coerce')  # Return NaN if the value is NaN\n",
    "\n",
    "# Terapkan fungsi ke kolom yang diinginkan\n",
    "df['ceilAlg.layer1_report'] = df['ceilAlg.layer1_report'].apply(convert_code_to_number)\n",
    "df['ceilAlg.layer2_report'] = df['ceilAlg.layer2_report'].apply(convert_code_to_number)\n",
    "df['ceilAlg.layer3_report'] = df['ceilAlg.layer3_report'].apply(convert_code_to_number)\n",
    "df['ceilAlg.layer4_report'] = df['ceilAlg.layer4_report'].apply(convert_code_to_number)\n"
   ]
  },
  {
   "cell_type": "code",
   "execution_count": 17,
   "metadata": {},
   "outputs": [],
   "source": [
    "#Replace \n",
    "def replace_code_metar(x):\n",
    "    kode_metar = { 'BR': '1' , 'HZ': '2', 'RA': '3', '-RA': '33', 'VCTS': '4', 'GS': '5', '+TSRA': '6','-TSRA': '66' }\n",
    "    try:\n",
    "        return kode_metar[x]\n",
    "    except:\n",
    "        return 0\n",
    "df['visiAlg.PW_METAR'] = df['visiAlg.PW_METAR'].apply(replace_code_metar)"
   ]
  },
  {
   "cell_type": "markdown",
   "metadata": {},
   "source": [
    "### Pengisian data kosong pada ceilometer algoritma dengan angka '0'"
   ]
  },
  {
   "cell_type": "code",
   "execution_count": 18,
   "metadata": {},
   "outputs": [],
   "source": [
    "#Fill ceilometer algoritma layer 2 , 3 , 4 ,dan PW_METAR  pada empty value dengan 0 \n",
    "df['ceilAlg.layer1_report'].fillna(0,inplace=True)\n",
    "df['ceilAlg.layer2_report'].fillna(0,inplace=True)\n",
    "df['ceilAlg.layer3_report'].fillna(0,inplace=True)\n",
    "df['ceilAlg.layer4_report'].fillna(0,inplace=True)\n",
    "df['visiAlg.PW_METAR'].fillna(0,inplace=True)"
   ]
  },
  {
   "cell_type": "markdown",
   "metadata": {},
   "source": [
    "### Pengisian data kosong pada touchdown.message dan rollout.message"
   ]
  },
  {
   "cell_type": "code",
   "execution_count": 19,
   "metadata": {},
   "outputs": [
    {
     "name": "stderr",
     "output_type": "stream",
     "text": [
      "C:\\Users\\Lenovo\\AppData\\Local\\Temp\\ipykernel_11232\\2843894071.py:1: FutureWarning: Series.fillna with 'method' is deprecated and will raise in a future version. Use obj.ffill() or obj.bfill() instead.\n",
      "  df['touchdown.message'].fillna(method='ffill',inplace=True)\n",
      "C:\\Users\\Lenovo\\AppData\\Local\\Temp\\ipykernel_11232\\2843894071.py:2: FutureWarning: Series.fillna with 'method' is deprecated and will raise in a future version. Use obj.ffill() or obj.bfill() instead.\n",
      "  df['rollout.message'].fillna(method='ffill',inplace=True)\n"
     ]
    }
   ],
   "source": [
    "df['touchdown.message'].fillna(method='ffill',inplace=True)\n",
    "df['rollout.message'].fillna(method='ffill',inplace=True)"
   ]
  },
  {
   "cell_type": "markdown",
   "metadata": {},
   "source": [
    "### Pengecekkan kembali column jika terdapat column yang memiliki data yang masih kosong "
   ]
  },
  {
   "cell_type": "code",
   "execution_count": 20,
   "metadata": {
    "scrolled": true
   },
   "outputs": [
    {
     "data": {
      "text/plain": [
       "date (yyyy-MM-dd HH:mm:ss)    False\n",
       "windAlg.Spd_2m_kt             False\n",
       "windAlg.Dir_2m                False\n",
       "windAlg.SpdX_2m_kt            False\n",
       "ALgt_1m_cd/m2                 False\n",
       "windAlg.Spd_10m_kt            False\n",
       "windAlg.Dir_10m               False\n",
       "windAlg.DirCCw_10m            False\n",
       "windAlg.DirCw_10m             False\n",
       "windAlg.Peak_10m_kt           False\n",
       "zenoAlg.AT_5m_C               False\n",
       "zenoAlg.DP_5m_C               False\n",
       "zenoAlg.RH_5m                 False\n",
       "baroAlg.QNH_1m_mb             False\n",
       "baroAlg.QFE_1m_mb             False\n",
       "baroAlg.BPLow_1m_mb           False\n",
       "visiAlg.F_Vis_1m_m            False\n",
       "visiAlg.F_Vis_10m_m           False\n",
       "visiAlg.VisMn_10m_m           False\n",
       "visiAlg.VisMx_10m_m           False\n",
       "touchdown.message             False\n",
       "rollout.message               False\n",
       "touchdown.edge                False\n",
       "touchdown.center              False\n",
       "ceilAlg.Base_30s_ft           False\n",
       "ceilAlg.layer1_report         False\n",
       "ceilAlg.layer2_report         False\n",
       "ceilAlg.layer3_report         False\n",
       "ceilAlg.layer4_report         False\n",
       "visiAlg.PW_METAR              False\n",
       "dtype: bool"
      ]
     },
     "execution_count": 20,
     "metadata": {},
     "output_type": "execute_result"
    }
   ],
   "source": [
    "df.isnull().any()"
   ]
  },
  {
   "cell_type": "code",
   "execution_count": 21,
   "metadata": {},
   "outputs": [
    {
     "name": "stderr",
     "output_type": "stream",
     "text": [
      "C:\\Users\\Lenovo\\AppData\\Local\\Temp\\ipykernel_11232\\511685323.py:6: FutureWarning: DataFrame.applymap has been deprecated. Use DataFrame.map instead.\n",
      "  hasil_pencarian = df.applymap(cari_M)\n"
     ]
    },
    {
     "name": "stdout",
     "output_type": "stream",
     "text": [
      "\n",
      "Hasil Pencarian:\n",
      "Empty DataFrame\n",
      "Columns: [date (yyyy-MM-dd HH:mm:ss), windAlg.Spd_2m_kt, windAlg.Dir_2m, windAlg.SpdX_2m_kt, ALgt_1m_cd/m2, windAlg.Spd_10m_kt, windAlg.Dir_10m, windAlg.DirCCw_10m, windAlg.DirCw_10m, windAlg.Peak_10m_kt, zenoAlg.AT_5m_C, zenoAlg.DP_5m_C, zenoAlg.RH_5m, baroAlg.QNH_1m_mb, baroAlg.QFE_1m_mb, baroAlg.BPLow_1m_mb, visiAlg.F_Vis_1m_m, visiAlg.F_Vis_10m_m, visiAlg.VisMn_10m_m, visiAlg.VisMx_10m_m, touchdown.message, rollout.message, touchdown.edge, touchdown.center, ceilAlg.Base_30s_ft, ceilAlg.layer1_report, ceilAlg.layer2_report, ceilAlg.layer3_report, ceilAlg.layer4_report, visiAlg.PW_METAR]\n",
      "Index: []\n",
      "\n",
      "[0 rows x 30 columns]\n"
     ]
    }
   ],
   "source": [
    "# Fungsi untuk mencari nilai 'M' dalam seluruh DataFrame\n",
    "def cari_M(value):\n",
    "    return 'M' in str(value)\n",
    "\n",
    "# Terapkan pencarian ke seluruh DataFrame\n",
    "hasil_pencarian = df.applymap(cari_M)\n",
    "\n",
    "# Cek apakah hasil pencarian kosong\n",
    "if not hasil_pencarian.empty:\n",
    "    # Jika tidak kosong, tampilkan hasil pencarian\n",
    "    print(\"\\nHasil Pencarian:\")\n",
    "    print(df[hasil_pencarian.any(axis=1)])\n",
    "else:\n",
    "    # Jika kosong, keluarkan pesan\n",
    "    print(\"\\nTidak ada huruf M\")"
   ]
  },
  {
   "cell_type": "code",
   "execution_count": 22,
   "metadata": {},
   "outputs": [],
   "source": [
    "df.to_csv(f'preprocess_{inputfilename}', index=False)"
   ]
  }
 ],
 "metadata": {
  "kernelspec": {
   "display_name": "Python 3 (ipykernel)",
   "language": "python",
   "name": "python3"
  },
  "language_info": {
   "codemirror_mode": {
    "name": "ipython",
    "version": 3
   },
   "file_extension": ".py",
   "mimetype": "text/x-python",
   "name": "python",
   "nbconvert_exporter": "python",
   "pygments_lexer": "ipython3",
   "version": "3.11.0"
  }
 },
 "nbformat": 4,
 "nbformat_minor": 4
}
